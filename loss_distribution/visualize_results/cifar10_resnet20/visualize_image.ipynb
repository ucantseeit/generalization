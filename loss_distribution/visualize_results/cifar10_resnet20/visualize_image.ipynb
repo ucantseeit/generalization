{
 "cells": [
  {
   "cell_type": "code",
   "execution_count": 1,
   "id": "3965d380",
   "metadata": {},
   "outputs": [
    {
     "name": "stdout",
     "output_type": "stream",
     "text": [
      "['/home/hqdeng7/lijuyang/generalization/loss_distribution', '/home/hqdeng7/.conda/envs/ljy/lib/python311.zip', '/home/hqdeng7/.conda/envs/ljy/lib/python3.11', '/home/hqdeng7/.conda/envs/ljy/lib/python3.11/lib-dynload', '', '/home/hqdeng7/.conda/envs/ljy/lib/python3.11/site-packages']\n"
     ]
    }
   ],
   "source": [
    "import sys\n",
    "import os\n",
    "\n",
    "current_notebook_dir = os.path.dirname(os.path.abspath('__file__'))\n",
    "project_root_dir = os.path.abspath(os.path.join(current_notebook_dir, '../../'))\n",
    "\n",
    "# 将这个父目录添加到sys.path的最前面\n",
    "if project_root_dir not in sys.path:\n",
    "    sys.path.insert(0, project_root_dir)\n",
    "\n",
    "print(sys.path)"
   ]
  },
  {
   "cell_type": "code",
   "execution_count": 2,
   "id": "2a9551b2",
   "metadata": {},
   "outputs": [],
   "source": [
    "from pytorch_script.visual_utils import load_config, load_cifar10_data, \\\n",
    "\tget_sorted_model_paths, load_model_state_dict, evaluate_model_performance"
   ]
  },
  {
   "cell_type": "code",
   "execution_count": 3,
   "id": "75dbb773",
   "metadata": {},
   "outputs": [],
   "source": [
    "import os\n",
    "import torch\n",
    "import torch.nn as nn\n",
    "import torchvision\n",
    "import torchvision.transforms as transforms\n",
    "import numpy as np\n",
    "import pickle\n",
    "\n",
    "def sample_high_loss_images(epoch: int, dataset_type: str = 'test', num_samples: int = 5):\n",
    "    \"\"\"\n",
    "    采样某一epoch中损失最大的图片。\n",
    "\n",
    "    Args:\n",
    "        epoch (int): 要加载模型的训练轮次。\n",
    "        dataset_type (str): 'train' 或 'test'，表示使用训练集或测试集。\n",
    "        num_samples (int): 返回损失最大的图片数量。\n",
    "\n",
    "    Returns:\n",
    "        list: 包含字典的列表，每个字典包含 'loss', 'image', 'true_label', 'predicted_label'。\n",
    "              按损失降序排列。\n",
    "    \"\"\"\n",
    "    config = load_config()\n",
    "    device = torch.device(\"cuda\" if torch.cuda.is_available() else \"cpu\")\n",
    "\n",
    "    train_loader, test_loader = load_cifar10_data(\n",
    "        config['cifar10_data_path'], config['batch_size'], config['num_workers']\n",
    "    )\n",
    "\n",
    "    if dataset_type == 'train':\n",
    "        data_loader = train_loader\n",
    "        # dataset = train_dataset # 实际这里不需要dataset对象，因为dataloader已经提供了图片和标签\n",
    "    elif dataset_type == 'test':\n",
    "        data_loader = test_loader\n",
    "        # dataset = test_dataset\n",
    "    else:\n",
    "        raise ValueError(\"dataset_type 必须是 'train' 或 'test'\")\n",
    "\n",
    "    if data_loader is None:\n",
    "        print(\"数据加载失败。\")\n",
    "        return []\n",
    "\n",
    "    model_path = os.path.join(config['model_dir'], f\"{config['model_prefix']}{epoch}{config['model_extension']}\")\n",
    "    \n",
    "    if not os.path.exists(model_path):\n",
    "        print(f\"模型文件 {model_path} 不存在。请检查路径和 epoch 是否正确。\")\n",
    "        return []\n",
    "\n",
    "    model = load_model_state_dict(model_path, device)\n",
    "    model.eval() # 设置模型为评估模式\n",
    "\n",
    "    image_losses = []\n",
    "    with torch.no_grad(): # 在评估时不计算梯度\n",
    "        for batch_idx, (images, labels) in enumerate(data_loader):\n",
    "            images_gpu, labels_gpu = images.to(device), labels.to(device)\n",
    "            outputs = model(images_gpu)\n",
    "\n",
    "            # 计算每个样本的损失\n",
    "            per_sample_loss = torch.nn.functional.cross_entropy(outputs, labels_gpu, reduction='none')\n",
    "            _, predicted = torch.max(outputs.data, 1)\n",
    "\n",
    "            for i in range(images.size(0)):\n",
    "                image_losses.append({\n",
    "                    'loss': per_sample_loss[i].item(),\n",
    "                    'image': images[i], # 原始图片张量 (CPU上的Tensor)\n",
    "                    'true_label': labels[i].item(),\n",
    "                    'predicted_label': predicted[i].item()\n",
    "                })\n",
    "\n",
    "    # 根据损失值降序排列\n",
    "    image_losses.sort(key=lambda x: x['loss'], reverse=True)\n",
    "\n",
    "    # 返回损失最大的 num_samples 张图片\n",
    "    return image_losses[:num_samples]\n"
   ]
  },
  {
   "cell_type": "code",
   "execution_count": 4,
   "id": "2b3a72c8",
   "metadata": {},
   "outputs": [],
   "source": [
    "from PIL import Image\n",
    "import matplotlib.pyplot as plt\n",
    "\n",
    "def visualize_high_loss_image(epoch, ds_type, num_samples):\n",
    "\thigh_loss_images_data = sample_high_loss_images(epoch, ds_type, num_samples)\n",
    "\n",
    "\t# mean = torch.tensor([0.4914, 0.4822, 0.4465]).view(3, 1, 1)\n",
    "\t# std = torch.tensor([0.2023, 0.1994, 0.2010]).view(3, 1, 1)\n",
    "\n",
    "\t# if high_loss_images_data:\n",
    "\t# \tprint(f\"Epoch X 中测试集损失最大的 {len(high_loss_images_data)} 张图片：\")\n",
    "\t# \tplt.figure(figsize=(15, 5))\n",
    "\t# \tfor i, item in enumerate(high_loss_images_data):\n",
    "\t# \t\tloss = item['loss']\n",
    "\t# \t\timage_tensor = item['image'] # 这是经过归一化的张量\n",
    "\t# \t\ttrue_label = item['true_label']\n",
    "\t# \t\tpredicted_label = item['predicted_label']\n",
    "\n",
    "\t# \t\t# **关键步骤：反归一化**\n",
    "\t# \t\timage_unnormalized = image_tensor * std + mean\n",
    "\n",
    "\t# \t\t# 将张量裁剪到有效范围 [0, 1]，防止因浮点误差导致颜色异常\n",
    "\t# \t\t# (虽然反归一化会大致恢复到0-1，但微小误差可能导致值略微超出)\n",
    "\t# \t\timage_unnormalized = torch.clamp(image_unnormalized, 0, 1)\n",
    "\n",
    "\t# \t\t# 转换为PIL Image\n",
    "\t# \t\timage_pil = transforms.ToPILImage()(image_unnormalized)\n",
    "\n",
    "\t# \t\tplt.subplot(1, len(high_loss_images_data), i + 1)\n",
    "\t# \t\tplt.imshow(image_pil)\n",
    "\t# \t\tplt.title(f\"Loss: {loss:.2f}\\nTrue: {true_label}, Pred: {predicted_label}\")\n",
    "\t# \t\tplt.axis('off')\n",
    "\t# \tplt.tight_layout()\n",
    "\t# \tplt.show()\n",
    "\t# else:\n",
    "\t# \tprint(\"未找到高损失图片或数据加载失败。\")\n",
    "\tmean = torch.tensor([0.4914, 0.4822, 0.4465]).view(3, 1, 1)\n",
    "\tstd = torch.tensor([0.2023, 0.1994, 0.2010]).view(3, 1, 1)\n",
    "\n",
    "\tif high_loss_images_data:\n",
    "\t\tprint(f\"Epoch X 中测试集损失最大的 {len(high_loss_images_data)} 张图片：\")\n",
    "\t\tplt.figure(figsize=(15, 5)) # 设置图片大小\n",
    "\t\tfor i, item in enumerate(high_loss_images_data):\n",
    "\t\t\tloss = item['loss']\n",
    "\t\t\timage_tensor = item['image'] # 这是从 DataLoader 中获取的 (C, H, W) 归一化张量\n",
    "\t\t\ttrue_label = item['true_label']\n",
    "\t\t\tpredicted_label = item['predicted_label']\n",
    "\n",
    "\t\t\t# --- 步骤 1: 反归一化 ---\n",
    "\t\t\t# 将归一化后的张量还原到原始的 [0, 1] 范围\n",
    "\t\t\timage_unnormalized = image_tensor * std + mean\n",
    "\t\t\t# 裁剪值以确保它们在有效范围内 [0, 1]，防止因浮点误差导致颜色异常\n",
    "\t\t\timage_unnormalized = torch.clamp(image_unnormalized, 0, 1)\n",
    "\n",
    "\t\t\t# --- 步骤 2: 转换维度并转换为 NumPy 数组以供 Matplotlib 显示 ---\n",
    "\t\t\t# Matplotlib 的 imshow 期望 (H, W, C) 格式的 NumPy 数组\n",
    "\t\t\t# PyTorch 张量通常是 (C, H, W)，所以需要使用 .permute(1, 2, 0) 来转换维度\n",
    "\t\t\timage_display = image_unnormalized.permute(1, 2, 0).cpu().numpy()\n",
    "\n",
    "\t\t\t# --- 步骤 3: 使用 Matplotlib 显示图片 ---\n",
    "\t\t\tplt.subplot(1, len(high_loss_images_data), i + 1)\n",
    "\t\t\tplt.imshow(image_display) # 显示维度正确的 NumPy 数组\n",
    "\t\t# \tplt.title(f\"Loss: {loss:.2f}\\nTrue: {true_label}, Pred: {predicted_label}\")\n",
    "\t\t# \tplt.axis('off') # 关闭坐标轴\n",
    "\n",
    "\t\t# plt.tight_layout() # 调整子图布局，防止重叠\n",
    "\t\t# plt.show() # 显示所有图片\n",
    "\telse:\n",
    "\t\tprint(\"未找到高损失图片或数据加载失败。\")"
   ]
  },
  {
   "cell_type": "code",
   "execution_count": null,
   "id": "1966097c",
   "metadata": {},
   "outputs": [
    {
     "name": "stdout",
     "output_type": "stream",
     "text": [
      "正在加载 CIFAR-10 数据集到 ../../pytorch_script/data/cifar10...\n",
      "CIFAR-10 数据集加载成功！\n",
      "  从字典中提取模型状态字典...\n",
      "Epoch X 中测试集损失最大的 1 张图片：\n"
     ]
    },
    {
     "data": {
      "image/png": "[encoded data removed]",
      "text/plain": [
       "<Figure size 1500x500 with 1 Axes>"
      ]
     },
     "metadata": {},
     "output_type": "display_data"
    }
   ],
   "source": []
  },
  {
   "cell_type": "code",
   "execution_count": 7,
   "id": "6ea29cb6",
   "metadata": {},
   "outputs": [
    {
     "name": "stdout",
     "output_type": "stream",
     "text": [
      "正在加载 CIFAR-10 数据集到 ../../pytorch_script/data/cifar10...\n",
      "CIFAR-10 数据集加载成功！\n",
      "  从字典中提取模型状态字典...\n",
      "Epoch X 中测试集损失最大的 1 张图片：\n"
     ]
    },
    {
     "data": {
      "image/png": "[encoded data removed]",
      "text/plain": [
       "<Figure size 1500x500 with 1 Axes>"
      ]
     },
     "metadata": {},
     "output_type": "display_data"
    }
   ],
   "source": [
    "visualize_high_loss_image(400, 'test', 1)"
   ]
  },
  {
   "cell_type": "code",
   "execution_count": null,
   "id": "32e16e1a",
   "metadata": {},
   "outputs": [],
   "source": []
  }
 ],
 "metadata": {
  "kernelspec": {
   "display_name": "ljy",
   "language": "python",
   "name": "python3"
  },
  "language_info": {
   "codemirror_mode": {
    "name": "ipython",
    "version": 3
   },
   "file_extension": ".py",
   "mimetype": "text/x-python",
   "name": "python",
   "nbconvert_exporter": "python",
   "pygments_lexer": "ipython3",
   "version": "3.11.13"
  }
 },
 "nbformat": 4,
 "nbformat_minor": 5
}
