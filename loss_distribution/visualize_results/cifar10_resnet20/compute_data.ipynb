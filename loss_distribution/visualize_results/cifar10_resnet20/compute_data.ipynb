{
 "cells": [
  {
   "cell_type": "code",
   "execution_count": null,
   "id": "ade34230",
   "metadata": {},
   "outputs": [],
   "source": [
    "import sys\n",
    "import os\n",
    "\n",
    "current_notebook_dir = os.path.dirname(os.path.abspath('__file__'))\n",
    "project_root_dir = os.path.abspath(os.path.join(current_notebook_dir, '../../'))\n",
    "\n",
    "# 将这个父目录添加到sys.path的最前面\n",
    "if project_root_dir not in sys.path:\n",
    "    sys.path.insert(0, project_root_dir)\n",
    "\n",
    "print(sys.path)"
   ]
  },
  {
   "cell_type": "code",
   "execution_count": null,
   "id": "04e48427",
   "metadata": {},
   "outputs": [],
   "source": [
    "import os\n",
    "import torch\n",
    "import torch.nn as nn\n",
    "import torchvision\n",
    "import torchvision.transforms as transforms\n",
    "import matplotlib.pyplot as plt\n",
    "import numpy as np\n",
    "\n",
    "from pytorch_script.visual_utils import load_cifar10_data, \\\n",
    "\tget_sorted_model_paths, evaluate_model_performance, load_model_state_dict\n"
   ]
  },
  {
   "cell_type": "code",
   "execution_count": null,
   "id": "3e413671",
   "metadata": {},
   "outputs": [],
   "source": [
    "import seaborn as sns\n",
    "\n",
    "config = {\n",
    "\t'model_dir': '../../model_training_results/cifar10_resnet20',  # 模型存储的文件夹路径\n",
    "\t'model_prefix': 'model_',        # 模型文件名的前缀\n",
    "\t'model_extension': '.pth',                         # 保存模型的文件扩展名\n",
    "\t'cifar10_data_path': '../../pytorch_script/data/cifar10',           # CIFAR-10 数据集存储路径\n",
    "\t'batch_size': 64,                                 # DataLoader 的批次大小\n",
    "\t'num_workers': 2                                  # DataLoader 的工作进程数\n",
    "}\n",
    "\n",
    "device = torch.device(\"cuda\")\n",
    "\n",
    "# 加载数据\n",
    "train_loader, test_loader = load_cifar10_data(\n",
    "\tconfig['cifar10_data_path'], config['batch_size'], config['num_workers']\n",
    ")\n",
    "if train_loader is None or test_loader is None:\n",
    "\tprint(\"数据加载失败，程序终止。\")\n",
    "\n",
    "# 获取排序后的模型文件路径\n",
    "sorted_model_paths = get_sorted_model_paths(\n",
    "\tconfig['model_dir'], config['model_prefix'], config['model_extension']\n",
    ")\n",
    "\n",
    "if not sorted_model_paths:\n",
    "\tprint(\"没有找到符合条件或能成功加载的模型文件。请检查 MODEL_DIR, MODEL_PREFIX 和 MODEL_EXTENSION 设置。\")\n",
    "\n",
    "epochs = []\n",
    "train_accuracies = []\n",
    "test_accuracies = []\n",
    "train_losses = []\n",
    "test_losses = []\n",
    "\n",
    "print(\"\\n开始逐个评估模型...\")\n",
    "for epoch, model_path in sorted_model_paths:\n",
    "\tprint(f\"\\n正在评估模型：{model_path} (纪元: {epoch})\")\n",
    "\t\n",
    "\t# 评估训练集性能\n",
    "\tmodel = load_model_state_dict('cifar10', 'resnet20', 10, model_path, device)\n",
    "\ttrain_acc, train_loss = evaluate_model_performance(model, train_loader, device)\n",
    "\tif train_acc is not None:\n",
    "\t\ttrain_accuracies.append(train_acc)\n",
    "\t\ttrain_losses.append(train_loss)\n",
    "\t\tprint(f\"  training acc = {train_acc:.2f}%\")\n",
    "\t\tprint(f\"  training loss = {train_loss:.2f}\")\n",
    "\telse:\n",
    "\t\tprint(\"  训练集评估失败，跳过。\")\n",
    "\t\tcontinue # 如果训练集评估失败，则整个模型跳过\n",
    "\n",
    "\t# 评估测试集性能\n",
    "\ttest_acc, test_loss = evaluate_model_performance(model, test_loader, device)\n",
    "\tif test_acc is not None:\n",
    "\t\ttest_accuracies.append(test_acc)\n",
    "\t\ttest_losses.append(test_loss)\n",
    "\t\tprint(f\"  test acc = {test_acc:.2f}%\")\n",
    "\t\tprint(f\"  test loss = {train_loss:.2f}\")\n",
    "\telse:\n",
    "\t\tprint(\"  测试集评估失败，跳过。\")\n",
    "\t\tcontinue # 如果测试集评估失败，则整个模型跳过\n",
    "\n",
    "\tepochs.append(epoch)"
   ]
  },
  {
   "cell_type": "code",
   "execution_count": null,
   "id": "4b3b8062",
   "metadata": {},
   "outputs": [],
   "source": [
    "np.save('train_accuracies.npy', np.array(train_accuracies))\n",
    "np.save('test_accuracies.npy', np.array(test_accuracies))\n",
    "np.save('train_losses.npy', np.array(train_losses))\n",
    "np.save('test_losses.npy', np.array(test_losses))"
   ]
  },
  {
   "cell_type": "code",
   "execution_count": null,
   "id": "221f5f12",
   "metadata": {},
   "outputs": [],
   "source": [
    "def model_losses(model, data_loader):\n",
    "  losses = []\n",
    "  model.eval()\n",
    "  for images, labels in data_loader:\n",
    "    images, labels = images.to(device), labels.to(device)\n",
    "    outputs = model(images)\n",
    "    loss = torch.nn.functional.cross_entropy(outputs, labels)\n",
    "    losses.append(loss.item())\n",
    "  return losses"
   ]
  },
  {
   "cell_type": "code",
   "execution_count": null,
   "id": "c2cfcc78",
   "metadata": {},
   "outputs": [],
   "source": [
    "all_model_train_losses = {}\n",
    "all_model_test_losses = {}\n",
    "\n",
    "for epoch, model_path in sorted_model_paths:\n",
    "\tprint(epoch)\n",
    "\tmodel = load_model_state_dict('cifar10', 'resnet20', 10, model_path, device)\n",
    "\tmodel.to(device)\n",
    "\tall_model_train_losses[epoch] = model_losses(model, train_loader)\n",
    "\tall_model_test_losses[epoch] = model_losses(model, test_loader)"
   ]
  },
  {
   "cell_type": "code",
   "execution_count": 11,
   "id": "f5459edc",
   "metadata": {},
   "outputs": [],
   "source": [
    "import pickle\n",
    "file_path_pickle = \"all_model_train_losses.pickle\"\n",
    "with open(file_path_pickle, 'wb') as f: # 注意 'wb' 表示写入二进制\n",
    "    pickle.dump(all_model_train_losses, f)\n",
    "\n",
    "file_path_pickle = \"all_model_test_losses.pickle\"\n",
    "with open(file_path_pickle, 'wb') as f: # 注意 'wb' 表示写入二进制\n",
    "    pickle.dump(all_model_test_losses, f)"
   ]
  },
  {
   "cell_type": "code",
   "execution_count": 12,
   "id": "148570df",
   "metadata": {},
   "outputs": [],
   "source": [
    "np.save('epochs.npy', epochs)"
   ]
  },
  {
   "cell_type": "code",
   "execution_count": null,
   "id": "1e441cfa",
   "metadata": {},
   "outputs": [],
   "source": []
  }
 ],
 "metadata": {
  "kernelspec": {
   "display_name": "ljy",
   "language": "python",
   "name": "python3"
  },
  "language_info": {
   "codemirror_mode": {
    "name": "ipython",
    "version": 3
   },
   "file_extension": ".py",
   "mimetype": "text/x-python",
   "name": "python",
   "nbconvert_exporter": "python",
   "pygments_lexer": "ipython3",
   "version": "3.11.13"
  }
 },
 "nbformat": 4,
 "nbformat_minor": 5
}
