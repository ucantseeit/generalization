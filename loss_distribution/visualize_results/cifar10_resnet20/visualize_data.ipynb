{
 "cells": [
  {
   "cell_type": "code",
   "execution_count": null,
   "id": "014dd31d",
   "metadata": {},
   "outputs": [],
   "source": [
    "import sys\n",
    "import os\n",
    "\n",
    "current_notebook_dir = os.path.dirname(os.path.abspath('__file__'))\n",
    "project_root_dir = os.path.abspath(os.path.join(current_notebook_dir, '../../'))\n",
    "\n",
    "# 将这个父目录添加到sys.path的最前面\n",
    "if project_root_dir not in sys.path:\n",
    "    sys.path.insert(0, project_root_dir)\n",
    "\n",
    "print(sys.path)"
   ]
  },
  {
   "cell_type": "code",
   "execution_count": null,
   "id": "d6f6967d",
   "metadata": {},
   "outputs": [],
   "source": [
    "import matplotlib.pyplot as plt\n",
    "import seaborn as sns\n",
    "import numpy as np\n",
    "import os\n",
    "\n",
    "from pytorch_script.visual_utils import plot_acc_losses, plot_epochs_losses_distribution, plot_losses_distribution_and_contribution"
   ]
  },
  {
   "cell_type": "code",
   "execution_count": null,
   "id": "d75667e2",
   "metadata": {},
   "outputs": [],
   "source": [
    "train_accuracies = np.load('train_accuracies.npy')\n",
    "test_accuracies = np.load('test_accuracies.npy')\n",
    "train_losses = np.load('train_losses.npy')\n",
    "test_losses = np.load('test_losses.npy')\n",
    "epochs = np.load('epochs.npy')\n",
    "epochs = [  0,  5,  10,  20,  30,\n",
    "        40,  50,  60,  70,  80,  90, 100, 110, 120, 130, 140, 150, 160,\n",
    "       170, 180, 190, 200, 210, 220, 230, 240, 250, 260, 270, 280, 290,\n",
    "       300, 310, 320, 330, 340, 350, 360, 370, 380, 390, 400, 410, 420,\n",
    "       430, 440, 450, 460, 470, 480, 490, 500]"
   ]
  },
  {
   "cell_type": "code",
   "execution_count": null,
   "id": "6b419a00",
   "metadata": {},
   "outputs": [],
   "source": [
    "plot_acc_losses(epochs, train_accuracies, test_accuracies, train_losses, test_losses)"
   ]
  },
  {
   "cell_type": "code",
   "execution_count": null,
   "id": "e1216e28",
   "metadata": {},
   "outputs": [],
   "source": [
    "import pickle\n",
    "with open('all_model_train_losses.pickle', 'rb') as f: \n",
    "\tall_model_train_losses = pickle.load(f)\n",
    "\n",
    "with open('all_model_test_losses.pickle', 'rb') as f: \n",
    "\tall_model_test_losses = pickle.load(f)"
   ]
  },
  {
   "cell_type": "code",
   "execution_count": null,
   "id": "81b7567c",
   "metadata": {},
   "outputs": [],
   "source": [
    "len(all_model_train_losses[0]), len(all_model_train_losses[100])"
   ]
  },
  {
   "cell_type": "code",
   "execution_count": null,
   "id": "e252737b",
   "metadata": {},
   "outputs": [],
   "source": [
    "plot_epochs_losses_distribution('train', all_model_test_losses, [100, 200, 300, 400, 500])"
   ]
  },
  {
   "cell_type": "code",
   "execution_count": null,
   "id": "b5b00f1f",
   "metadata": {},
   "outputs": [],
   "source": [
    "plot_epochs_losses_distribution('test', all_model_test_losses, [0, 20 , 40, 50, 100, 150, 200, 250, 300, 350, 400, 450, 500])"
   ]
  },
  {
   "cell_type": "code",
   "execution_count": null,
   "id": "1cbcab9f",
   "metadata": {},
   "outputs": [],
   "source": [
    "fig, axes = plt.subplots(8, 2, figsize=(32, 64)) # 增加了 figsize\n",
    "axes_flat = axes.flatten()\n",
    "\n",
    "epoch_indices_to_plot = [0, 50, 100, 150, 200, 300, 400, 500]\n",
    "\n",
    "# 遍历 epoch 索引，并将其映射到扁平化的 axes 数组中的每个子图\n",
    "for i, epoch_index in enumerate(epoch_indices_to_plot):\n",
    "    plot_losses_distribution_and_contribution(epoch_index, all_model_train_losses[epoch_index], axes_flat[i])\n",
    "\n",
    "# 设置整个 Figure 的总标题\n",
    "fig.suptitle('Traing Loss Distribution and Contribution Across Different Epochs', fontsize=40, y=1.02) # y 调整标题位置\n",
    "\n",
    "plt.tight_layout(rect=[0, 0.03, 1, 0.98]) # 调整布局，为总标题留出空间\n",
    "plt.show()"
   ]
  },
  {
   "cell_type": "code",
   "execution_count": null,
   "id": "f53c8466",
   "metadata": {},
   "outputs": [],
   "source": [
    "fig, axes = plt.subplots(4, 2, figsize=(32, 64)) # 增加了 figsize\n",
    "axes_flat = axes.flatten()\n",
    "\n",
    "epoch_indices_to_plot = [0, 50, 100, 150, 200, 300, 400, 500]\n",
    "\n",
    "# 遍历 epoch 索引，并将其映射到扁平化的 axes 数组中的每个子图\n",
    "for i, epoch_index in enumerate(epoch_indices_to_plot):\n",
    "    plot_losses_distribution_and_contribution(epoch_index, all_model_test_losses[epoch_index], axes_flat[i])\n",
    "\n",
    "# 设置整个 Figure 的总标题\n",
    "fig.suptitle('Test Loss Distribution and Contribution Across Different Epochs', fontsize=40, y=1.02) # y 调整标题位置\n",
    "\n",
    "plt.tight_layout(rect=[0, 0.03, 1, 0.98]) # 调整布局，为总标题留出空间\n",
    "plt.show()"
   ]
  },
  {
   "cell_type": "code",
   "execution_count": null,
   "id": "9a6f869a",
   "metadata": {},
   "outputs": [],
   "source": [
    "def plot_log_loss_distribution(losses, ax):\n",
    "\tlog_losses = np.log10(np.array(losses))\n",
    "\tsns.histplot(log_losses, kde=False, ax=ax)"
   ]
  },
  {
   "cell_type": "code",
   "execution_count": null,
   "id": "bf432208",
   "metadata": {},
   "outputs": [],
   "source": [
    "epochs = [0, 50, 100, 150, 200, 300, 400, 500]\n",
    "fig, axes = plt.subplots(4, 2, figsize=(18, 20))\n",
    "axes = axes.flatten()\n",
    "for i, epoch in enumerate(epochs):\n",
    "\tplot_log_loss_distribution(all_model_train_losses[epoch], axes[i])\n",
    "\taxes[i].set_title(f\"Log Training Loss Distribution of Epoch {epoch}\")\n",
    "\taxes[i].set_xlabel('log10 loss')"
   ]
  },
  {
   "cell_type": "code",
   "execution_count": null,
   "id": "151217f2",
   "metadata": {},
   "outputs": [],
   "source": [
    "np.mean(all_model_test_losses[100])"
   ]
  },
  {
   "cell_type": "code",
   "execution_count": null,
   "id": "b7b96e03",
   "metadata": {},
   "outputs": [],
   "source": [
    "np.median(all_model_test_losses[100])"
   ]
  },
  {
   "cell_type": "code",
   "execution_count": null,
   "id": "9c312105",
   "metadata": {},
   "outputs": [],
   "source": [
    "epochs = [0, 50, 100, 150]\n",
    "fig, axes = plt.subplots(2, 2, figsize=(18, 20))\n",
    "axes = axes.flatten()\n",
    "for i, epoch in enumerate(epochs):\n",
    "\tsns.histplot(all_model_train_losses[epoch], kde=False, ax=axes[i])\n",
    "\taxes[i].set_title(f\"Training Loss Distribution of Epoch {epoch}\")\n",
    "\taxes[i].set_xlabel('loss value')"
   ]
  },
  {
   "cell_type": "code",
   "execution_count": null,
   "id": "7558e63e",
   "metadata": {},
   "outputs": [],
   "source": [
    "epochs = [0, 50, 100, 150, 200, 300, 400, 500]\n",
    "fig, axes = plt.subplots(4, 2, figsize=(18, 20))\n",
    "axes = axes.flatten()\n",
    "for i, epoch in enumerate(epochs):\n",
    "\tplot_log_loss_distribution(all_model_test_losses[epoch], axes[i])\n",
    "\taxes[i].set_title(f\"Log Test Loss Distribution of Epoch {epoch}\")\n",
    "\taxes[i].set_xlabel('log10 loss')"
   ]
  },
  {
   "cell_type": "code",
   "execution_count": null,
   "id": "67e859a4",
   "metadata": {},
   "outputs": [],
   "source": [
    "def _calculate_bin_sum_contributions(epoch_losses, bin_edges, total_loss):\n",
    "    \"\"\"\n",
    "    计算每个 bin 内实际 loss 值的总和，并将其按总 loss 进行归一化。\n",
    "\n",
    "    参数:\n",
    "        epoch_losses (np.array 或 list): 当前 epoch 的 loss 值列表或数组。\n",
    "        bin_edges (np.array): 来自 np.histogram 的 bin 边界。\n",
    "        total_loss (float): 当前 epoch 的所有 loss 值的总和。\n",
    "\n",
    "    返回:\n",
    "        np.array: 归一化后的贡献度 (每个 bin 内实际 loss 总和 / 总 loss)。\n",
    "    \"\"\"\n",
    "    # 初始化一个数组，用于存储每个 bin 内 loss 值的累加和\n",
    "    bin_sum_losses = np.zeros(len(bin_edges) - 1)\n",
    "\n",
    "    # 遍历每个 loss，将其累加到正确的 bin 中\n",
    "    for loss in epoch_losses:\n",
    "        # np.digitize 返回每个值所属 bin 的索引。\n",
    "        # 结果是 1-based index，对于等于最后一个 bin 边界的值，返回 len(bin_edges)。\n",
    "        # 所以需要 -1 转换为 0-based index。\n",
    "        bin_idx = np.digitize(loss, bin_edges) - 1\n",
    "\n",
    "        # 确保索引在 bin_sum_losses 的有效范围内\n",
    "        # 例如，如果 loss 恰好等于最后一个 bin 的上边界，np.digitize 可能返回 len(bin_edges)。\n",
    "        bin_idx = np.clip(bin_idx, 0, len(bin_sum_losses) - 1)\n",
    "\n",
    "        bin_sum_losses[bin_idx] += loss\n",
    "\n",
    "    # 将每个 bin 的累加和除以总 loss 进行归一化\n",
    "    if total_loss == 0:\n",
    "        return np.zeros_like(bin_sum_losses)\n",
    "    else:\n",
    "        return bin_sum_losses / total_loss\n",
    "\n",
    "\n",
    "# --- 主绘图函数 ---\n",
    "def plot_loss_contribution(epoch_index, epoch_losses, ax):\n",
    "    \"\"\"\n",
    "    绘制给定 epoch 的 loss 分布 (直方图) 和每个 bin 的实际 loss 贡献度。\n",
    "\n",
    "    参数:\n",
    "        epoch_index (int): 要绘制的 epoch 索引。\n",
    "        num_bins (int): 直方图的 bin 数量。\n",
    "        ax (matplotlib.axes.Axes): 用于绘图的 Axes 对象。\n",
    "    \"\"\"\n",
    "    epoch_losses = np.array(epoch_losses)\n",
    "    total_loss = np.sum(epoch_losses)\n",
    "\n",
    "    hist, bin_edges = np.histogram(epoch_losses)\n",
    "    bin_centers = (bin_edges[:-1] + bin_edges[1:]) / 2 # bin 的中心点，用于条形图定位\n",
    "    contributions = _calculate_bin_sum_contributions(epoch_losses, bin_edges, total_loss)\n",
    "\n",
    "    ax.bar(bin_centers, contributions, width=(bin_edges[1] - bin_edges[0]) * 0.9, color='lightcoral', edgecolor='black', label='Loss Contribution', alpha=0.7)\n",
    "\n",
    "    ax.set_ylabel('Contribution (Loss * Frequency)', color='lightcoral') # 修改标签，更准确\n",
    "    ax.tick_params(axis='y', labelcolor='lightcoral')\n",
    "    ax.set_ylim(0, max(contributions) * 1.1 if len(contributions) > 0 and max(contributions) > 0 else 0.1)\n",
    "\n",
    "    ax.set_xlabel('Loss Value')\n",
    "    ax.grid(axis='y', linestyle='--', alpha=0.4) # 主轴网格线\n"
   ]
  },
  {
   "cell_type": "code",
   "execution_count": null,
   "id": "5530246c",
   "metadata": {},
   "outputs": [],
   "source": [
    "epochs = [0, 50, 100, 150, 200, 300, 400, 500]\n",
    "fig, axes = plt.subplots(4, 2, figsize=(18, 20))\n",
    "axes = axes.flatten()\n",
    "for i, epoch in enumerate(epochs):\n",
    "\tplot_loss_contribution(epoch, all_model_train_losses[epoch], axes[i])\n",
    "\taxes[i].set_title(f\"Training Loss Contribution of Epoch {epoch}\")"
   ]
  },
  {
   "cell_type": "code",
   "execution_count": null,
   "id": "256fdbc9",
   "metadata": {},
   "outputs": [],
   "source": [
    "epochs = [0, 50, 100, 150, 200, 300, 400, 500]\n",
    "fig, axes = plt.subplots(4, 2, figsize=(18, 20))\n",
    "axes = axes.flatten()\n",
    "for i, epoch in enumerate(epochs):\n",
    "\tplot_loss_contribution(epoch, all_model_test_losses[epoch], axes[i])\n",
    "\taxes[i].set_title(f\"Test Loss Contribution of Epoch {epoch}\")"
   ]
  },
  {
   "cell_type": "code",
   "execution_count": null,
   "id": "980bf1fa",
   "metadata": {},
   "outputs": [],
   "source": []
  }
 ],
 "metadata": {
  "kernelspec": {
   "display_name": "ljy",
   "language": "python",
   "name": "python3"
  },
  "language_info": {
   "codemirror_mode": {
    "name": "ipython",
    "version": 3
   },
   "file_extension": ".py",
   "mimetype": "text/x-python",
   "name": "python",
   "nbconvert_exporter": "python",
   "pygments_lexer": "ipython3",
   "version": "3.11.13"
  }
 },
 "nbformat": 4,
 "nbformat_minor": 5
}
