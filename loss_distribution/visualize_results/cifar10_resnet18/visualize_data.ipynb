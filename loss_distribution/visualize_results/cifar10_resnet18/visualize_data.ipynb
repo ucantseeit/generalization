{
 "cells": [
  {
   "cell_type": "code",
   "execution_count": null,
   "id": "d6f6967d",
   "metadata": {},
   "outputs": [],
   "source": [
    "import matplotlib.pyplot as plt\n",
    "import seaborn as sns\n",
    "import numpy as np\n",
    "import os\n",
    "\n",
    "from generalization.loss_distribution.visualize_results.visual_utils import plot_acc_losses, plot_epochs_losses_distribution, plot_losses_distribution_and_contribution"
   ]
  },
  {
   "cell_type": "code",
   "execution_count": null,
   "id": "d75667e2",
   "metadata": {},
   "outputs": [],
   "source": [
    "train_accuracies = np.load('train_accuracies.npy')\n",
    "test_accuracies = np.load('test_accuracies.npy')\n",
    "train_losses = np.load('train_losses.npy')\n",
    "test_losses = np.load('test_losses.npy')\n",
    "epochs = np.load('epochs.npy')"
   ]
  },
  {
   "cell_type": "code",
   "execution_count": null,
   "id": "6b419a00",
   "metadata": {},
   "outputs": [],
   "source": [
    "plot_acc_losses(epochs, train_accuracies, test_accuracies, train_losses, test_losses)"
   ]
  },
  {
   "cell_type": "code",
   "execution_count": null,
   "id": "e1216e28",
   "metadata": {},
   "outputs": [],
   "source": [
    "import pickle\n",
    "with open('all_model_train_losses.pickle', 'rb') as f: \n",
    "\tall_model_train_losses = pickle.load(f)\n",
    "\n",
    "with open('all_model_test_losses.pickle', 'rb') as f: \n",
    "\tall_model_test_losses = pickle.load(f)"
   ]
  },
  {
   "cell_type": "code",
   "execution_count": null,
   "id": "e252737b",
   "metadata": {},
   "outputs": [],
   "source": [
    "plot_epochs_losses_distribution('train', all_model_train_losses, [0, 10, 20, 30, 40, 50, 100, 150, 200, 250, 300, 350, 400, 450, 500])"
   ]
  },
  {
   "cell_type": "code",
   "execution_count": null,
   "id": "b5b00f1f",
   "metadata": {},
   "outputs": [],
   "source": [
    "plot_epochs_losses_distribution('test', all_model_test_losses, [0, 20 , 40, 50, 100, 150, 200, 250, 300, 350, 400, 450, 500])"
   ]
  },
  {
   "cell_type": "code",
   "execution_count": null,
   "id": "1cbcab9f",
   "metadata": {},
   "outputs": [],
   "source": [
    "fig, axes = plt.subplots(8, 2, figsize=(32, 64)) # 增加了 figsize\n",
    "axes_flat = axes.flatten()\n",
    "\n",
    "epoch_indices_to_plot = [10, 20, 30, 40, 50, 70, 90, 110, 150, 200, 250, 300, 350, 400, 450, 500]\n",
    "\n",
    "# 遍历 epoch 索引，并将其映射到扁平化的 axes 数组中的每个子图\n",
    "for i, epoch_index in enumerate(epoch_indices_to_plot):\n",
    "    plot_losses_distribution_and_contribution(epoch_index, all_model_train_losses[epoch_index], axes_flat[i])\n",
    "\n",
    "# 设置整个 Figure 的总标题\n",
    "fig.suptitle('Traing Loss Distribution and Contribution Across Different Epochs', fontsize=40, y=1.02) # y 调整标题位置\n",
    "\n",
    "plt.tight_layout(rect=[0, 0.03, 1, 0.98]) # 调整布局，为总标题留出空间\n",
    "plt.show()"
   ]
  },
  {
   "cell_type": "code",
   "execution_count": null,
   "id": "f53c8466",
   "metadata": {},
   "outputs": [],
   "source": [
    "fig, axes = plt.subplots(8, 2, figsize=(32, 64)) # 增加了 figsize\n",
    "axes_flat = axes.flatten()\n",
    "\n",
    "epoch_indices_to_plot = [10, 20, 30, 40, 50, 70, 90, 110, 150, 200, 250, 300, 350, 400, 450, 500]\n",
    "\n",
    "# 遍历 epoch 索引，并将其映射到扁平化的 axes 数组中的每个子图\n",
    "for i, epoch_index in enumerate(epoch_indices_to_plot):\n",
    "    plot_losses_distribution_and_contribution(epoch_index, all_model_test_losses[epoch_index], axes_flat[i])\n",
    "\n",
    "# 设置整个 Figure 的总标题\n",
    "fig.suptitle('Test Loss Distribution and Contribution Across Different Epochs', fontsize=40, y=1.02) # y 调整标题位置\n",
    "\n",
    "plt.tight_layout(rect=[0, 0.03, 1, 0.98]) # 调整布局，为总标题留出空间\n",
    "plt.show()"
   ]
  }
 ],
 "metadata": {
  "kernelspec": {
   "display_name": "ljy",
   "language": "python",
   "name": "python3"
  },
  "language_info": {
   "codemirror_mode": {
    "name": "ipython",
    "version": 3
   },
   "file_extension": ".py",
   "mimetype": "text/x-python",
   "name": "python",
   "nbconvert_exporter": "python",
   "pygments_lexer": "ipython3",
   "version": "3.11.13"
  }
 },
 "nbformat": 4,
 "nbformat_minor": 5
}
